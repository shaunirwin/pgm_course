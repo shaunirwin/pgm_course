{
 "cells": [
  {
   "cell_type": "markdown",
   "metadata": {},
   "source": [
    "# Week 1 - Factor Operations\n",
    "\n",
    "## 2. Basic Probability Review"
   ]
  },
  {
   "cell_type": "markdown",
   "metadata": {},
   "source": [
    "### Definitions and Properties\n",
    "\n",
    "#### General\n",
    "\n",
    "| Notation$\\hspace{6cm}$ | Meaning |\n",
    "|------------------|-------------------------------------------------------|\n",
    "|$p(X = \\text{x})$ | Probability of random variable $x$ being in state $\\text{x}$ |\n",
    "|dom($X$)=$\\{rain, sun\\}$ | Domain of random variable $X$ |\n",
    "|$p(x \\cup y) \\equiv p(x) + p(y) - p(x \\cap y)$| Interaction of two variables|\n",
    "|$p(x \\cap y) \\equiv p(x,y)$|Joint distribution|\n",
    "|$p(x) = \\sum_{y}p(x,y)$|$p(x)$ is the marginal probability of $p(x,y)$|\n",
    "|$p(x\\, |\\, y) \\equiv \\frac{p(x,y)}{p(y)}$|Conditional distribution|\n",
    "|$p(x\\, |\\, y) = \\frac{$p(y\\, |\\, x) p(x)}{p(y)}$|Bayes' rule|\n",
    "|$f(x) \\ge 0, \\hspace{6mm} \\int_{-\\infty}^{\\infty} f(x) dx = 1$|Probability density function $f(x)$ definition 1|\n",
    "|$p(a \\ge x \\ge b) = \\int_{a}^{b} f(x) dx$|Probability density function $f(x)$ definition 2|\n",
    "|$p(x) \\equiv \\int_{x \\in \\triangle}f(x)dx$|For a small region $\\triangle$|\n",
    "\n",
    "#### Marginal Independence\n",
    "\n",
    "| Notation$\\hspace{6cm}$ | Meaning |\n",
    "|------------------|-------------------------------------------------------|\n",
    "|$X \\perp Y$|iff $p(X, Y) = p(X)p(Y)$|\n",
    "|$p(X\\, |\\, Y) = p(X) \\Leftrightarrow p(Y\\, |\\, X) = p(Y)$|If $X \\perp Y$|\n",
    "|$X \\perp Y \\Leftrightarrow Y \\perp X$|Symmetry (for all $x \\in \\text{dom}(X)$ and $y \\in \\text{dom}(Y)$)|\n",
    "\n",
    "#### Conditional Independence\n",
    "\n",
    "| Notation$\\hspace{6cm}$ | Meaning |\n",
    "|------------------|-------------------------------------------------------|\n",
    "|$(X \\perp Y\\, |\\, Z)$|iff $p(X, Y\\, |\\ Z) = p(X\\, |\\, Z)p(Y\\, |\\, Z)$|\n",
    "|$p(X, Y\\, |\\, Z) = p(X\\,|\\,Z) p(Y\\,|\\,Z)$|$X$ and $Y$ are independent of each other given *all* states of $Z$|\n",
    "|$X \\top Y\\, |\\, Z$|$X$ and $Y$ conditionally dependent, given $Z$|\n",
    "|$(X \\perp Y\\,|\\,Z) \\Leftrightarrow (Y \\perp X\\,|\\,Z)$|Symmetry|"
   ]
  },
  {
   "cell_type": "markdown",
   "metadata": {},
   "source": [
    "### Marginal Independence\n",
    "\n",
    "* Ask whether or not knowing the state of variable $y$ tells you something more than you knew before about variable $x$\n",
    "* i.e. the new evidence $y$ does not affect our current belief in $x$\n",
    "* Does *not* necessarily mean that there is no relation between $x$ and $y$\n",
    "* Marginal independence $\\equiv$ independence $\\equiv$ statistical independence\n",
    "\n",
    "#### Examples\n",
    "\n",
    "* Independent: drawing several cards from the deck *with* replacement\n",
    "* Not independent: drawing several cards from the deck *without* replacement "
   ]
  },
  {
   "cell_type": "markdown",
   "metadata": {},
   "source": [
    "### Conditional Independence\n",
    "\n",
    "* Weaker form of indepencence than marginal independence\n",
    "* If $X$ is conditionally independent of $Y$ given $Z$: Given $Z$, $Y$ contains no additional information about $X$\n",
    "* $X$ and Y are conditionally independent given $Z$ if and only if, given any value of $Z$, the probability distribution of $X$ is the same for all values of $Y$ and the probability distribution of $Y$ is the same for all values of $X$.\n",
    "* Sometimes, 2 variables might not be marginally independent, but may become (conditionally) independent if we observe some third variable\n",
    "\n",
    "#### Terminology\n",
    "\n",
    "* $p(Y\\,|\\, X = x)$\n",
    " * *\"posterior probability distribution\"* over the values $y$ of $Y$, conditioned on the fact that $X = x$.\n",
    " * This expression can be viewed as the marginal over $Y$, in the distribution we obtain by conditioning on $x$.\n",
    "\n",
    "#### Uses\n",
    "\n",
    "* Conditional independence is our most basic and robust form of knowledge about uncertain environments\n",
    "* Simplifies the structure of a PGM or ML algorithm\n",
    "* Reduces computation required for inference and learning\n",
    "* Graphical models enable simple determination of conditional independence using *d-separation*\n",
    "\n",
    "#### Examples\n",
    "\n",
    "* $P(MIT\\, |\\, Stanford, GradeA) = P(MIT\\, |\\, GradeA)$\n",
    " * If we observe the grade of the student, we can already determine their chance of acceptance at MIT without needing to check if they have been accepted at Stanford\n",
    " * We can say that acceptance at MIT is *conditionally independent* of acceptance at Stanford given the grade\n",
    " * However, if we have not yet observed the acceptance at Stanford, then the two events are *not* independent.\n",
    " * We can express this as follows: $p(MIT \\perp Stanford\\, |\\, Grade)$"
   ]
  },
  {
   "cell_type": "markdown",
   "metadata": {},
   "source": [
    "## 3. Daphne Koller videos on Factor Operations\n",
    "\n",
    "### Distributions"
   ]
  },
  {
   "cell_type": "code",
   "execution_count": 20,
   "metadata": {
    "collapsed": false
   },
   "outputs": [
    {
     "data": {
      "text/html": [
       "<iframe width=\"460\" height=\"250\" src=\"//www.youtube.com/embed/Y1i7Tzj9YFg\" frameborder=\"0\" allowfullscreen></iframe>"
      ],
      "text/plain": [
       "<IPython.core.display.HTML object>"
      ]
     },
     "execution_count": 20,
     "metadata": {},
     "output_type": "execute_result"
    }
   ],
   "source": [
    "from IPython.display import HTML\n",
    "HTML('<iframe width=\"460\" height=\"250\" src=\"//www.youtube.com/embed/Y1i7Tzj9YFg\" frameborder=\"0\" allowfullscreen></iframe>')"
   ]
  },
  {
   "cell_type": "markdown",
   "metadata": {},
   "source": [
    "**Joint distribution: $p(I,D,G)$**\n",
    "\n",
    "|I|D|G|Prob|\n",
    "|----------|\n",
    "|$i^0$|$d^0$|$g^1$|0.126|\n",
    "|$i^0$|$d^0$|$g^2$|0.168|\n",
    "|$i^0$|$d^0$|$g^3$|0.126|\n",
    "|$i^0$|$d^1$|$g^1$|0.009|\n",
    "|$i^0$|$d^1$|$g^2$|0.045|\n",
    "|$i^0$|$d^1$|$g^3$|0.126|\n",
    "|$i^1$|$d^0$|$g^1$|0.252|\n",
    "|$i^1$|$d^0$|$g^2$|0.0224|\n",
    "|$i^1$|$d^0$|$g^3$|0.0056|\n",
    "|$i^1$|$d^1$|$g^1$|0.006|\n",
    "|$i^1$|$d^1$|$g^2$|0.036|\n",
    "|$i^1$|$d^1$|$g^3$|0.024|\n",
    "\n",
    "----------\n",
    "\n",
    "**Conditioning on $g^1$**\n",
    "\n",
    "* We eliminate all the rows where $G \\ne g^1$\n",
    "* The *unnormalised* distribution is $p(I,D,g^1)$\n",
    "* Normalising the resultant probability distribution produces $p(I,D\\, |\\,g^1)$\n",
    "\n",
    "|I|D|G|Prob|\n",
    "|----------|\n",
    "|$i^0$|$d^0$|$g^1$|0.126 / 0.447 = 0.282|\n",
    "|$i^0$|$d^1$|$g^1$|0.009 / 0.447 = 0.02|\n",
    "|$i^1$|$d^0$|$g^1$|0.252 / 0.447 = 0.564|\n",
    "|$i^1$|$d^1$|$g^1$|0.006 / 0.447 = 0.134|\n",
    "\n",
    "----------\n",
    "\n",
    "**Marginalising out $I$**\n",
    "\n",
    "* We eliminate column $I$\n",
    "* Sum up the remaining probabilities of $D$\n",
    "\n",
    "|I|D|Prob|\n",
    "|----------|\n",
    "|$i^0$|$d^0$|0.282|\n",
    "|$i^0$|$d^1$|0.02|\n",
    "|$i^1$|$d^0$|0.564|\n",
    "|$i^1$|$d^1$|0.134|\n",
    "\n",
    "This becomes:\n",
    "\n",
    "|D|Prob|\n",
    "|----------|\n",
    "|$d^0$|0.282 + 0.564 = 0.846|\n",
    "|$d^1$|0.02 + 0.134 = 0.154|\n"
   ]
  },
  {
   "cell_type": "markdown",
   "metadata": {},
   "source": [
    "### Factors and factor operations"
   ]
  },
  {
   "cell_type": "code",
   "execution_count": 19,
   "metadata": {
    "collapsed": false
   },
   "outputs": [
    {
     "data": {
      "text/html": [
       "<iframe width=\"460\" height=\"250\" src=\"//www.youtube.com/embed/5R5ixMmKQzg\" frameborder=\"0\" allowfullscreen></iframe>"
      ],
      "text/plain": [
       "<IPython.core.display.HTML object>"
      ]
     },
     "execution_count": 19,
     "metadata": {},
     "output_type": "execute_result"
    }
   ],
   "source": [
    "HTML('<iframe width=\"460\" height=\"250\" src=\"//www.youtube.com/embed/5R5ixMmKQzg\" frameborder=\"0\" allowfullscreen></iframe>')"
   ]
  },
  {
   "cell_type": "markdown",
   "metadata": {},
   "source": [
    "**Factors**\n",
    "\n",
    "> $\\phi(X_1, ..., X_k)$, where $\\phi \\in \\mathbf{R}$\n",
    "\n",
    "* $\\phi$ is the factor\n",
    "* A factor is simply a function of one or more variables\n",
    "* There is no requirement that the values correspond to probabilities (or sum to 1)\n",
    "* $p(I,D,G)$ is also a function, which is a factor (in this case it is normalised)\n",
    " * Since all all 3 are variables, the scope is ${I,D,G}$\n",
    "* $p(I,D,g^1)$ is also a function, which is a factor (in this case it is unnormalised)\n",
    " * NB: since $g^1$ is constant, the scope only includes ${I,D}$\n",
    "\n",
    "> Scope of the factor = $\\{X_1, ..., X_k\\}$\n",
    "\n",
    "* i.e. the arguments that the factor takes\n",
    "\n",
    "---------------\n",
    " \n",
    "**Conditional Probability Distribution (CPD)**\n",
    " \n",
    "The following table shows $p(G\\,|\\,I,D)$, the probability distribution over $G$, conditioned in the context of $I,D$:\n",
    "\n",
    "|$\\hspace{2cm}$|$g^1$|$g^2$|$g^3$|\n",
    "|------------------|\n",
    "|$i^0,d^0$|0.3|0.4|0.3|\n",
    "|$i^0,d^1$|0.05|0.25|0.7|\n",
    "|$i^1,d^0$|0.9|0.08|0.02|\n",
    "|$i^1,d^1$|0.5|0.3|0.2|\n",
    "\n",
    "---------------------\n",
    "\n",
    "**Factor product operation**\n",
    "\n",
    "$\\phi_1(A,B)$:\n",
    "\n",
    "|$a^1$|$b^1$|0.5|\n",
    "|---------------|\n",
    "|$a^1$|$b^2$|0.8|\n",
    "|$a^2$|$b^1$|0.1|\n",
    "|$a^2$|$b^2$|0|\n",
    "|$a^3$|$b^1$|0.3|\n",
    "|$a^3$|$b^2$|0.9|\n",
    "\n",
    "$\\phi_2(B,C)$:\n",
    "\n",
    "|$b^1$|$c^1$|0.5|\n",
    "|---------------|\n",
    "|$b^1$|$c^2$|0.7|\n",
    "|$b^2$|$c^1$|0.1|\n",
    "|$b^2$|$c^2$|0.2|\n",
    "\n",
    "$\\phi_1(A,B) * \\phi_2(B,C) = \\phi_3(A,B,C)$:\n",
    "\n",
    "|$a^1$|$b^1$|$c^1$|0.5 * 0.5 = 0.25|\n",
    "|---------------|\n",
    "|$a^1$|$b^1$|$c^2$|0.5 * 0.7 = 0.35|\n",
    "|$a^1$|$b^2$|$c^1$|0.8 * 0.1 = 0.08|\n",
    "|$a^1$|$b^2$|$c^2$|0.8 * 0.2 = 0.16|\n",
    "|$a^2$|$b^1$|$c^1$|0.1 * 0.5 = 0.05|\n",
    "|$a^2$|$b^1$|$c^2$|0.1 * 0.7 = 0.07|\n",
    "|$a^2$|$b^2$|$c^1$|0 * 0.1 = 0|\n",
    "|$a^2$|$b^2$|$c^2$|0 * 0.2 = 0|\n",
    "|$a^3$|$b^1$|$c^1$|0.3 * 0.5 = 0.15|\n",
    "|$a^3$|$b^1$|$c^2$|0.3 * 0.7 = 0.21|\n",
    "|$a^3$|$b^2$|$c^1$|0.9 * 0.1 = 0.09|\n",
    "|$a^3$|$b^2$|$c^2$|0.9 * 0.2 = 0.18|\n",
    "\n",
    "* Note how we have 6 rows * 4 rows => 12 rows!\n",
    "\n",
    "---------------------------\n",
    "\n",
    "**Factor marginalisation operation**\n",
    "\n",
    "$\\phi_3(A,B,C)$:\n",
    "\n",
    "|$a^1$|$b^1$|$c^1$|0.5 * 0.5 = 0.25|\n",
    "|---------------|\n",
    "|$a^1$|$b^1$|$c^2$|0.5 * 0.7 = 0.35|\n",
    "|$a^1$|$b^2$|$c^1$|0.8 * 0.1 = 0.08|\n",
    "|$a^1$|$b^2$|$c^2$|0.8 * 0.2 = 0.16|\n",
    "|$a^2$|$b^1$|$c^1$|0.1 * 0.5 = 0.05|\n",
    "|$a^2$|$b^1$|$c^2$|0.1 * 0.7 = 0.07|\n",
    "|$a^2$|$b^2$|$c^1$|0 * 0.1 = 0|\n",
    "|$a^2$|$b^2$|$c^2$|0 * 0.2 = 0|\n",
    "|$a^3$|$b^1$|$c^1$|0.3 * 0.5 = 0.15|\n",
    "|$a^3$|$b^1$|$c^2$|0.3 * 0.7 = 0.21|\n",
    "|$a^3$|$b^2$|$c^1$|0.9 * 0.1 = 0.09|\n",
    "|$a^3$|$b^2$|$c^2$|0.9 * 0.2 = 0.18|\n",
    "\n",
    "Marginalise out $B$ to produce a factor whose scope is $\\{A,C\\}$:\n",
    "\n",
    "|$a^1$|$c^1$|0.25 + 0.08 = 0.33|\n",
    "|----------------------------|\n",
    "|$a^1$|$c^2$|0.35 + 0.16 = 0.51|\n",
    "|$a^2$|$c^1$|0.05 + 0 = 0.05|\n",
    "|$a^2$|$c^2$|0.07 + 0 = 0.07|\n",
    "|$a^3$|$c^1$|0.15 + 0.09 = 0.24|\n",
    "|$a^3$|$c^2$|0.21 + 0.18 = 0.39|\n",
    "\n",
    "-----------------------\n",
    "\n",
    "**Factor reduction operation**\n",
    "\n",
    "$\\phi_3(A,B,C)$:\n",
    "\n",
    "|$a^1$|$b^1$|$c^1$|0.5 * 0.5 = 0.25|\n",
    "|---------------|\n",
    "|$a^1$|$b^1$|$c^2$|0.5 * 0.7 = 0.35|\n",
    "|$a^1$|$b^2$|$c^1$|0.8 * 0.1 = 0.08|\n",
    "|$a^1$|$b^2$|$c^2$|0.8 * 0.2 = 0.16|\n",
    "|$a^2$|$b^1$|$c^1$|0.1 * 0.5 = 0.05|\n",
    "|$a^2$|$b^1$|$c^2$|0.1 * 0.7 = 0.07|\n",
    "|$a^2$|$b^2$|$c^1$|0 * 0.1 = 0|\n",
    "|$a^2$|$b^2$|$c^2$|0 * 0.2 = 0|\n",
    "|$a^3$|$b^1$|$c^1$|0.3 * 0.5 = 0.15|\n",
    "|$a^3$|$b^1$|$c^2$|0.3 * 0.7 = 0.21|\n",
    "|$a^3$|$b^2$|$c^1$|0.9 * 0.1 = 0.09|\n",
    "|$a^3$|$b^2$|$c^2$|0.9 * 0.2 = 0.18|\n",
    "\n",
    "Reduce factor such that $C=c^1$:\n",
    "\n",
    "|$a^1$|$b^1$|$c^1$|0.5 * 0.5 = 0.25|\n",
    "|---------------|\n",
    "|$a^1$|$b^2$|$c^1$|0.8 * 0.1 = 0.08|\n",
    "|$a^2$|$b^1$|$c^1$|0.1 * 0.5 = 0.05|\n",
    "|$a^2$|$b^2$|$c^1$|0 * 0.1 = 0|\n",
    "|$a^3$|$b^1$|$c^1$|0.3 * 0.5 = 0.15|\n",
    "|$a^3$|$b^2$|$c^1$|0.9 * 0.1 = 0.09|\n",
    "\n",
    "* Note that the scope is now ${A,B}$ since $c^1$ is a constant (i.e. no dependence on $C$)\n",
    "* This operation resembles conditioning on a probability distribution"
   ]
  },
  {
   "cell_type": "markdown",
   "metadata": {},
   "source": [
    "## 4. Simple paper exercise\n",
    "\n",
    "Let $X \\in \\{x^0, x^1\\}$ represent the event of coin 1 landing on tails ($x^0$) and heads ($x^1$). Let $x^0 = 0$ and $x^1 = 1$.\n",
    "\n",
    "Similarly for $Y$ and coin 2.\n",
    "\n",
    "Let $Z = X + Y$\n",
    "\n",
    "### Define:\n",
    "\n",
    "$p(X)$:\n",
    "\n",
    "|$X$|$p(X)\\hspace{1cm}$|\n",
    "|----------|\n",
    "|$x^0$|0.5|\n",
    "|$x^1$|0.5|\n",
    "\n",
    "$p(Y)$:\n",
    "\n",
    "|$Y$|$p(Y)\\hspace{1cm}$|\n",
    "|----------|\n",
    "|$y^0$|0.5|\n",
    "|$y^1$|0.5|\n",
    "\n",
    "$p(Z\\,|\\,X,Y)$:\n",
    "\n",
    "|$\\hspace{2cm}$|$z^0$|$z^1$|$z^2$|\n",
    "|----------|\n",
    "|$x^0,y^0$|1|0|0|\n",
    "|$x^0,y^1$|0|1|0|\n",
    "|$x^1,y^0$|0|1|0|\n",
    "|$x^1,y^1$|0|0|1|\n",
    "\n",
    "### Determine:\n",
    "\n",
    "$p(X,Y,Z)$:\n",
    "\n",
    "We know that\n",
    "* $p(X,Y,Z) = p(X,Y) p(Z\\,|\\,X,Y)$\n",
    "* $p(X,Y) = p(X)p(Y)$ since $X \\perp Y$\n",
    "\n",
    "|$X$|$Y$|$p(X,Y)\\hspace{1cm}$|\n",
    "|----------|\n",
    "|$x^0$|$y^0$|0.25|\n",
    "|$x^0$|$y^1$|0.25|\n",
    "|$x^1$|$y^0$|0.25|\n",
    "|$x^1$|$y^1$|0.25|\n",
    "\n",
    "|$X$|$Y$|$Z$|$p(X,Y,Z)\\hspace{1cm}$|\n",
    "|----------|\n",
    "|$x^0$|$y^0$|$z^0$|0.25 * 1 = 0.25|\n",
    "|$x^0$|$y^0$|$z^1$|0.25 * 0 = 0|\n",
    "|$x^0$|$y^0$|$z^2$|0.25 * 0 = 0|\n",
    "|$x^0$|$y^1$|$z^0$|0.25 * 0 = 0|\n",
    "|$x^0$|$y^1$|$z^1$|0.25 * 1 = 0.25|\n",
    "|$x^0$|$y^1$|$z^2$|0.25 * 0 = 0|\n",
    "|$x^1$|$y^0$|$z^0$|0.25 * 0 = 0|\n",
    "|$x^1$|$y^0$|$z^1$|0.25 * 1 = 0.25|\n",
    "|$x^1$|$y^0$|$z^2$|0.25 * 0 = 0|\n",
    "|$x^1$|$y^1$|$z^0$|0.25 * 0 = 0|\n",
    "|$x^1$|$y^1$|$z^1$|0.25 * 0 = 0|\n",
    "|$x^1$|$y^1$|$z^2$|0.25 * 0 = 0.25|\n",
    "\n",
    "-------------------\n",
    "\n",
    "$p(X,Z)$:\n",
    "\n",
    "|$X$|$Z$|$p(X,Z)\\hspace{1cm}$|\n",
    "|----------|\n",
    "|$x^0$|$z^0$|0.25 + 0 = 0.25|\n",
    "|$x^0$|$z^1$|0 + 0.25 = 0.25|\n",
    "|$x^0$|$z^2$|0 + 0 = 0|\n",
    "|$x^1$|$z^0$|0 + 0 = 0|\n",
    "|$x^1$|$z^1$|0.25 + 0 = 0.25|\n",
    "|$x^1$|$z^2$|0 + 0.25 = 0.25|\n",
    "\n",
    "-------------------\n",
    "\n",
    "$p(Z\\,|\\,X=1)$:\n",
    "\n",
    "Take marginal $p(X,Z)$ and condition on $X = 1$:\n",
    "\n",
    "|$\\hspace{2cm}$|$z^0$|$z^1$|$z^2$|\n",
    "|----------|\n",
    "|$x^1$|0|0.25|0.25|\n",
    "\n",
    "Normalise:\n",
    "\n",
    "|$\\hspace{2cm}$|$z^0$|$z^1$|$z^2$|\n",
    "|----------|\n",
    "|$x^1$|0|0.5|0.5|\n",
    "\n",
    "-------------------\n",
    "\n",
    "$p(X\\,|\\,Z=2)$:\n",
    "\n",
    "Take marginal $p(X,Z)$ and condition on $Z = 2$:\n",
    "\n",
    "|$\\hspace{2cm}$|$x^0$|$x^1$|\n",
    "|----------|\n",
    "|$z^2$|0|0.25|\n",
    "\n",
    "Normalise:\n",
    "\n",
    "|$\\hspace{2cm}$|$x^0$|$x^1$|\n",
    "|----------|\n",
    "|$z^2$|0|1|\n",
    "\n",
    "-------------------\n",
    "\n",
    "$p(Z)$:\n",
    "\n",
    "Take $p(X,Z)$ and marginalise out $X$:\n",
    "\n",
    "|$Z$|$p(Z)\\hspace{1cm}$|\n",
    "|----------|\n",
    "|$z^0$|0.25 + 0 = 0.25|\n",
    "|$z^1$|0.25 + 0.25 = 0.5|\n",
    "|$z^2$|0 + 0.25 = 0.25|"
   ]
  },
  {
   "cell_type": "code",
   "execution_count": 53,
   "metadata": {
    "collapsed": false
   },
   "outputs": [],
   "source": [
    "import pgmpy\n",
    "from pgmpy.models import BayesianModel\n",
    "from pgmpy.factors.discrete import TabularCPD, DiscreteFactor, factor_product"
   ]
  },
  {
   "cell_type": "markdown",
   "metadata": {},
   "source": [
    "## Using TabularCPD"
   ]
  },
  {
   "cell_type": "code",
   "execution_count": 16,
   "metadata": {
    "collapsed": false
   },
   "outputs": [
    {
     "data": {
      "text/plain": [
       "True"
      ]
     },
     "execution_count": 16,
     "metadata": {},
     "output_type": "execute_result"
    }
   ],
   "source": [
    "model = BayesianModel([('X', 'Z'), \n",
    "                       ('Y', 'Z')])\n",
    "\n",
    "cpd_x = TabularCPD(variable='X',\n",
    "                   variable_card=2,\n",
    "                   values=[[0.5], [0.5]])\n",
    "\n",
    "cpd_y = TabularCPD(variable='Y',\n",
    "                   variable_card=2,\n",
    "                   values=[[0.5], [0.5]])\n",
    "\n",
    "cpd_z = TabularCPD(variable='Z',\n",
    "                   variable_card=3,\n",
    "                   values=[[1., 0., 0., 0.],\n",
    "                           [0., 1., 1., 0.],\n",
    "                           [0., 0., 0., 1.]],\n",
    "                   evidence=['X', 'Y'],\n",
    "                   evidence_card=[2, 2])\n",
    "\n",
    "model.add_cpds(cpd_x, cpd_y, cpd_z)\n",
    "\n",
    "model.check_model()"
   ]
  },
  {
   "cell_type": "code",
   "execution_count": 20,
   "metadata": {
    "collapsed": false
   },
   "outputs": [
    {
     "name": "stdout",
     "output_type": "stream",
     "text": [
      "╒═════╤═════╤═════╤═════╤═════╕\n",
      "│ X   │ X_0 │ X_0 │ X_1 │ X_1 │\n",
      "├─────┼─────┼─────┼─────┼─────┤\n",
      "│ Y   │ Y_0 │ Y_1 │ Y_0 │ Y_1 │\n",
      "├─────┼─────┼─────┼─────┼─────┤\n",
      "│ Z_0 │ 1.0 │ 0.0 │ 0.0 │ 0.0 │\n",
      "├─────┼─────┼─────┼─────┼─────┤\n",
      "│ Z_1 │ 0.0 │ 1.0 │ 1.0 │ 0.0 │\n",
      "├─────┼─────┼─────┼─────┼─────┤\n",
      "│ Z_2 │ 0.0 │ 0.0 │ 0.0 │ 1.0 │\n",
      "╘═════╧═════╧═════╧═════╧═════╛\n"
     ]
    }
   ],
   "source": [
    "print(model.get_cpds('Z'))"
   ]
  },
  {
   "cell_type": "code",
   "execution_count": 30,
   "metadata": {
    "collapsed": false
   },
   "outputs": [
    {
     "data": {
      "text/plain": [
       "(X _|_ Y)\n",
       "(Y _|_ X)"
      ]
     },
     "execution_count": 30,
     "metadata": {},
     "output_type": "execute_result"
    }
   ],
   "source": [
    "model.local_independencies(['X', 'Y', 'Z'])"
   ]
  },
  {
   "cell_type": "code",
   "execution_count": 34,
   "metadata": {
    "collapsed": false
   },
   "outputs": [
    {
     "name": "stdout",
     "output_type": "stream",
     "text": [
      "None\n"
     ]
    }
   ],
   "source": [
    "print(model.get_cpds('X').product(model.get_cpds('Y')))"
   ]
  },
  {
   "cell_type": "markdown",
   "metadata": {},
   "source": [
    "## Using DiscreteFactor"
   ]
  },
  {
   "cell_type": "code",
   "execution_count": 58,
   "metadata": {
    "collapsed": false
   },
   "outputs": [
    {
     "name": "stdout",
     "output_type": "stream",
     "text": [
      "╒═════╤══════════╕\n",
      "│ X   │   phi(X) │\n",
      "╞═════╪══════════╡\n",
      "│ X_0 │   0.5000 │\n",
      "├─────┼──────────┤\n",
      "│ X_1 │   0.5000 │\n",
      "╘═════╧══════════╛\n",
      "╒═════╤══════════╕\n",
      "│ Y   │   phi(Y) │\n",
      "╞═════╪══════════╡\n",
      "│ Y_0 │   0.5000 │\n",
      "├─────┼──────────┤\n",
      "│ Y_1 │   0.5000 │\n",
      "╘═════╧══════════╛\n"
     ]
    }
   ],
   "source": [
    "X = DiscreteFactor(['X'], [2], [0.5, 0.5])\n",
    "Y = DiscreteFactor(['Y'], [2], [0.5, 0.5])\n",
    "\n",
    "print(X)\n",
    "print(Y)"
   ]
  },
  {
   "cell_type": "code",
   "execution_count": 74,
   "metadata": {
    "collapsed": false
   },
   "outputs": [
    {
     "name": "stdout",
     "output_type": "stream",
     "text": [
      "╒═════╤═════╤════════════╕\n",
      "│ Z   │ Y   │   phi(Z,Y) │\n",
      "╞═════╪═════╪════════════╡\n",
      "│ Z_0 │ Y_0 │     1.0000 │\n",
      "├─────┼─────┼────────────┤\n",
      "│ Z_0 │ Y_1 │     0.0000 │\n",
      "├─────┼─────┼────────────┤\n",
      "│ Z_1 │ Y_0 │     0.0000 │\n",
      "├─────┼─────┼────────────┤\n",
      "│ Z_1 │ Y_1 │     1.0000 │\n",
      "├─────┼─────┼────────────┤\n",
      "│ Z_2 │ Y_0 │     0.0000 │\n",
      "├─────┼─────┼────────────┤\n",
      "│ Z_2 │ Y_1 │     0.0000 │\n",
      "╘═════╧═════╧════════════╛\n"
     ]
    }
   ],
   "source": [
    "cpd_z_factor = cpd_z.to_factor()\n",
    "\n",
    "# print(cpd_z_factor)\n",
    "\n",
    "print(cpd_z_factor.reduce([('X', 0)], inplace=False))"
   ]
  },
  {
   "cell_type": "code",
   "execution_count": 59,
   "metadata": {
    "collapsed": false
   },
   "outputs": [
    {
     "name": "stdout",
     "output_type": "stream",
     "text": [
      "╒═════╤═════╤════════════╕\n",
      "│ X   │ Y   │   phi(X,Y) │\n",
      "╞═════╪═════╪════════════╡\n",
      "│ X_0 │ Y_0 │     0.2500 │\n",
      "├─────┼─────┼────────────┤\n",
      "│ X_0 │ Y_1 │     0.2500 │\n",
      "├─────┼─────┼────────────┤\n",
      "│ X_1 │ Y_0 │     0.2500 │\n",
      "├─────┼─────┼────────────┤\n",
      "│ X_1 │ Y_1 │     0.2500 │\n",
      "╘═════╧═════╧════════════╛\n"
     ]
    }
   ],
   "source": [
    "X_Y = factor_product(X, Y)\n",
    "\n",
    "print(X_Y)"
   ]
  },
  {
   "cell_type": "markdown",
   "metadata": {},
   "source": [
    "$p(Z\\,|\\,X,Y)$:\n",
    "\n",
    "|$\\hspace{2cm}$|$z^0$|$z^1$|$z^2$|\n",
    "|----------|\n",
    "|$x^0,y^0$|1|0|0|\n",
    "|$x^0,y^1$|0|1|0|\n",
    "|$x^1,y^0$|0|1|0|\n",
    "|$x^1,y^1$|0|0|1|"
   ]
  },
  {
   "cell_type": "code",
   "execution_count": 1,
   "metadata": {
    "collapsed": true
   },
   "outputs": [],
   "source": [
    "%matplotlib notebook\n",
    "from matplotlib import pyplot as plt\n",
    "import numpy as np"
   ]
  }
 ],
 "metadata": {
  "kernelspec": {
   "display_name": "Python 3",
   "language": "python",
   "name": "python3"
  },
  "language_info": {
   "codemirror_mode": {
    "name": "ipython",
    "version": 3
   },
   "file_extension": ".py",
   "mimetype": "text/x-python",
   "name": "python",
   "nbconvert_exporter": "python",
   "pygments_lexer": "ipython3",
   "version": "3.6.0"
  }
 },
 "nbformat": 4,
 "nbformat_minor": 0
}
